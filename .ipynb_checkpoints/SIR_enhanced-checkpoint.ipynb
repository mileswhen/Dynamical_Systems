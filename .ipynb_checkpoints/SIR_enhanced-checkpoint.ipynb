{
 "cells": [
  {
   "cell_type": "code",
   "execution_count": 1,
   "metadata": {},
   "outputs": [],
   "source": [
    "%matplotlib widget\n",
    "import numpy as np\n",
    "import matplotlib.pyplot as plt"
   ]
  },
  {
   "cell_type": "markdown",
   "metadata": {},
   "source": [
    "## SIR Epidemic Model w/ following epidemiliogical classes:\n",
    "* S = susceptible\n",
    "* I_s = infected w/ sensitive strain\n",
    "* I_r = infected w/ resistant strain\n",
    "* R = recovered\n",
    "* V = vaccinated\n",
    "* v = death rate = 1/v = lifespan\n",
    "* y = recovery rate\n",
    "* beta = transmission coef"
   ]
  },
  {
   "cell_type": "code",
   "execution_count": 12,
   "metadata": {},
   "outputs": [],
   "source": [
    "v = 0.85\n",
    "y = 0.35 # recovery rate\n",
    "beta = 1.6 # transmission coef\n",
    "N = 1000 # population\n",
    "\n",
    "# initialize variables\n",
    "S = N\n",
    "I = 25\n",
    "R = 0\n",
    "\n",
    "S_all = [S]\n",
    "I_all = [I]\n",
    "R_all = [R]\n",
    "\n",
    "# the model\n",
    "for i in range(0, 1000):\n",
    "    dS = v*N + -v*S - (beta*I*S)/N\n",
    "    dI = (beta*I*S)/N - (y + v)*I\n",
    "    dR = y*I - v*R\n",
    "    \n",
    "    S += dS\n",
    "    I += dI\n",
    "    R += dR\n",
    "    \n",
    "    S_all.append(S)\n",
    "    I_all.append(I)\n",
    "    R_all.append(R)"
   ]
  },
  {
   "cell_type": "code",
   "execution_count": 13,
   "metadata": {},
   "outputs": [
    {
     "data": {
      "application/vnd.jupyter.widget-view+json": {
       "model_id": "ea9f63bfb9584dc18d9659898d29aa34",
       "version_major": 2,
       "version_minor": 0
      },
      "text/plain": [
       "Canvas(toolbar=Toolbar(toolitems=[('Home', 'Reset original view', 'home', 'home'), ('Back', 'Back to previous …"
      ]
     },
     "metadata": {},
     "output_type": "display_data"
    },
    {
     "data": {
      "text/plain": [
       "<matplotlib.legend.Legend at 0x7f902e784f70>"
      ]
     },
     "execution_count": 13,
     "metadata": {},
     "output_type": "execute_result"
    }
   ],
   "source": [
    "plt.figure()\n",
    "plt.plot(S_all, label='S')\n",
    "plt.plot(I_all, label='I')\n",
    "plt.plot(R_all, label='R')\n",
    "plt.legend()"
   ]
  },
  {
   "cell_type": "code",
   "execution_count": 15,
   "metadata": {},
   "outputs": [
    {
     "data": {
      "text/plain": [
       "5.684341886080802e-14"
      ]
     },
     "execution_count": 15,
     "metadata": {},
     "output_type": "execute_result"
    }
   ],
   "source": []
  },
  {
   "cell_type": "code",
   "execution_count": null,
   "metadata": {},
   "outputs": [],
   "source": []
  }
 ],
 "metadata": {
  "kernelspec": {
   "display_name": "Python 3.8.2 64-bit",
   "language": "python",
   "name": "python38264bitd6116f04d1314cfd99a8235de9ee3733"
  },
  "language_info": {
   "codemirror_mode": {
    "name": "ipython",
    "version": 3
   },
   "file_extension": ".py",
   "mimetype": "text/x-python",
   "name": "python",
   "nbconvert_exporter": "python",
   "pygments_lexer": "ipython3",
   "version": "3.8.2"
  }
 },
 "nbformat": 4,
 "nbformat_minor": 4
}
