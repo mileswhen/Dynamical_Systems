{
 "cells": [
  {
   "cell_type": "code",
   "execution_count": 1,
   "metadata": {},
   "outputs": [],
   "source": [
    "import numpy as np\n",
    "import matplotlib.pyplot as plt\n",
    "from ipywidgets import interact, interactive, fixed, interact_manual\n",
    "import ipywidgets as widgets"
   ]
  },
  {
   "cell_type": "markdown",
   "metadata": {},
   "source": [
    "## SIRV Epidemic Model\n",
    "\n",
    "#### S = susceptible\n",
    "#### I = infected\n",
    "#### R = recovered\n",
    "#### V = vaccinated\n",
    "\n",
    "* $\\beta$ = number infections per infected\n",
    "\n",
    "* $\\gamma$ = recovery rate\n",
    "\n",
    "* $\\frac{1}{\\mu}$ = average lifespan\n",
    "\n",
    "* $v$ = vaccination rate\n",
    "\n",
    "* $\\frac{1}{\\sigma}$ = average time before immunity loss from vaccine\n",
    "\n",
    "* $\\frac{1}{\\omega}$ = average time before immunity loss from infection\n",
    "\n",
    "* $\\lambda$ = birth rate\n",
    " \n",
    "----------------------\n",
    "For simplicity we assume that $\\lambda = \\mu$\n",
    "\n",
    "$\n",
    "\\Large\\frac{dS}{dt} = (\\sigma V + \\omega R) - \\beta \\cdot I \\cdot \\frac{S}{N} - vS \\\\\n",
    "\\Large\\frac{dV}{dt} = vS - \\sigma V\\\\\n",
    "\\Large\\frac{dI}{dt} = \\beta \\cdot I \\cdot \\frac{S}{N} - \\gamma I \\\\\n",
    "\\Large\\frac{dR}{dt} = \\gamma I - \\omega R\n",
    "$"
   ]
  },
  {
   "cell_type": "code",
   "execution_count": 11,
   "metadata": {},
   "outputs": [],
   "source": [
    "def sim_SIR(N, I, vday, maxdays, vrate=0.5, gamma=0.2, beta=1.2, sigma=1/100, omega=1/150):\n",
    "    S = N\n",
    "    V = 0\n",
    "    I = I\n",
    "    R = 0\n",
    "    S_all = []\n",
    "    V_all = []\n",
    "    I_all = []\n",
    "    R_all = []\n",
    "\n",
    "    # the model\n",
    "    for day in range(0, maxdays):\n",
    "        if day < vday:\n",
    "            dS = 0.001*N + (omega*R) - (beta * I * (S / N))\n",
    "            dV = 0\n",
    "            dI = (beta * I * (S/N) - (gamma * I))\n",
    "            dR = (gamma*I - omega*R)\n",
    "        elif day >= vday:\n",
    "            dS = 0.001*N + (sigma*V + omega*R) - (beta * I * (S / N)) - vrate*S\n",
    "            dV = (vrate*S - sigma*V)\n",
    "            dI = (beta * I * (S/N) - (gamma * I))\n",
    "            dR = (gamma*I - omega*R)\n",
    "\n",
    "        if (S+dS) < 0: \n",
    "            S = 0      \n",
    "        else: \n",
    "            S += dS\n",
    "\n",
    "        I += dI\n",
    "        R += dR\n",
    "        V += dV\n",
    "        \n",
    "        S_all.append(S)\n",
    "        I_all.append(I)\n",
    "        R_all.append(R)\n",
    "        V_all.append(V)\n",
    "    \n",
    "    return S_all, I_all, R_all, V_all"
   ]
  },
  {
   "cell_type": "code",
   "execution_count": 13,
   "metadata": {},
   "outputs": [
    {
     "output_type": "display_data",
     "data": {
      "text/plain": "interactive(children=(IntSlider(value=10000000, description='N', max=10000000, min=100, step=100), IntSlider(v…",
      "application/vnd.jupyter.widget-view+json": {
       "version_major": 2,
       "version_minor": 0,
       "model_id": "d4ec9241ee99491f80f954568f7e228a"
      }
     },
     "metadata": {}
    },
    {
     "output_type": "execute_result",
     "data": {
      "text/plain": [
       "<function __main__.plot_SIR(N, I, vday, maxdays, vrate, gamma, beta, sigma, omega)>"
      ]
     },
     "metadata": {},
     "execution_count": 13
    }
   ],
   "source": [
    "def plot_SIR(N, I, vday, maxdays, vrate, gamma, beta, sigma, omega):\n",
    "    S_all, I_all, R_all, V_all = sim_SIR(N, I, vday, maxdays, vrate, gamma, beta, sigma, omega)\n",
    "    x = range(0, maxdays)\n",
    "    plt.figure(figsize=[14,4])\n",
    "    plt.fill_between(x, S_all, color='tab:purple', alpha=0.25, label='Susceptible')\n",
    "    plt.fill_between(x, V_all, color='tab:green', alpha=0.25, label='Vaccinated')\n",
    "    plt.fill_between(x, I_all, color='tab:red', alpha=0.25, label='Infected')\n",
    "    plt.fill_between(x, R_all, color='tab:blue', alpha=0.25, label='Recovered')\n",
    "    plt.plot(S_all, color='tab:purple', lw=2)\n",
    "    plt.plot(V_all, '--', color='tab:green', lw=2)\n",
    "    plt.plot(I_all, color='tab:red', lw=2)\n",
    "    plt.plot(R_all, color='tab:blue', lw=2)\n",
    "    plt.xlabel('Days')\n",
    "    plt.ylabel('Population')\n",
    "\n",
    "interact(plot_SIR,\n",
    "         N=widgets.IntSlider(min=100, max=10000000, step=100, value=10000000),\n",
    "         I=widgets.IntSlider(min=1, max=100, step=1, value=1),\n",
    "         vday=widgets.IntSlider(step=1, max=1000, value=365),\n",
    "         maxdays=widgets.IntSlider(min=10, max=5000, step=1, value=500),\n",
    "         vrate=widgets.FloatSlider(min=0.0, max=1.0, step=0.01, value=0.05),\n",
    "         gamma=widgets.FloatSlider(min=0.0, max=1.0, step=0.01, value=0.12),\n",
    "         beta=widgets.FloatSlider(min=0.0, step=0.01, value=0.35),\n",
    "         sigma=widgets.FloatSlider(min=0.0, max=1.0, step=0.005, value=1/100),\n",
    "         omega=widgets.FloatSlider(min=0.0, max=1.0, step=0.005, value=1/150))"
   ]
  },
  {
   "source": [
    "## Stability analysis\n"
   ],
   "cell_type": "markdown",
   "metadata": {}
  },
  {
   "cell_type": "code",
   "execution_count": null,
   "metadata": {},
   "outputs": [],
   "source": []
  }
 ],
 "metadata": {
  "kernelspec": {
   "display_name": "Python 3.8.2 64-bit",
   "language": "python",
   "name": "python38264bitd6116f04d1314cfd99a8235de9ee3733"
  },
  "language_info": {
   "codemirror_mode": {
    "name": "ipython",
    "version": 3
   },
   "file_extension": ".py",
   "mimetype": "text/x-python",
   "name": "python",
   "nbconvert_exporter": "python",
   "pygments_lexer": "ipython3",
   "version": "3.8.2-final"
  }
 },
 "nbformat": 4,
 "nbformat_minor": 4
}