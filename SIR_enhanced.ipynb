{
 "cells": [
  {
   "cell_type": "code",
   "execution_count": 47,
   "metadata": {},
   "outputs": [],
   "source": [
    "import numpy as np\n",
    "import matplotlib.pyplot as plt\n",
    "from ipywidgets import interact, interactive, fixed, interact_manual\n",
    "import ipywidgets as widgets\n",
    "from time import sleep"
   ]
  },
  {
   "cell_type": "markdown",
   "metadata": {},
   "source": [
    "## SIRV Epidemic Model w/ following epidemiliogical classes:\n",
    "* S = susceptible\n",
    "* I_s = infected w/ sensitive strain\n",
    "* I_r = infected w/ resistant strain\n",
    "* R = recovered\n",
    "* V = vaccinated\n",
    "* v = death rate = 1/v = lifespan\n",
    "* y = recovery rate\n",
    "* beta = transmission coef\n",
    "\n",
    "--------------------------\n",
    "* dS/dt = -B * I * S/N\n",
    "* dI/dt = B * I * S/N - (y * I)\n",
    "* dR/dt = y * I"
   ]
  },
  {
   "cell_type": "code",
   "execution_count": 83,
   "metadata": {},
   "outputs": [],
   "source": [
    "def sim_SIR(N, I, days, y=0.2, beta=1.2):\n",
    "    S = N\n",
    "    I = I\n",
    "    R = 0\n",
    "    S_all = []\n",
    "    I_all = []\n",
    "    R_all = []\n",
    "\n",
    "    # the model\n",
    "    for i in range(0, days):\n",
    "        dS = (- beta * I * (S/N))\n",
    "        dI = (beta * I * (S/N) - (y * I))\n",
    "        dR = (y * I)\n",
    "\n",
    "        if (S+dS) < 0: S = 0      \n",
    "        else: S += dS\n",
    "\n",
    "        I += dI\n",
    "        R += dR\n",
    "        \n",
    "        S_all.append(S)\n",
    "        I_all.append(I)\n",
    "        R_all.append(R)\n",
    "    \n",
    "    return S_all, I_all, R_all"
   ]
  },
  {
   "cell_type": "code",
   "execution_count": 89,
   "metadata": {},
   "outputs": [
    {
     "output_type": "display_data",
     "data": {
      "text/plain": "interactive(children=(IntSlider(value=1000, description='N', max=10000, step=100), IntSlider(value=1, descript…",
      "application/vnd.jupyter.widget-view+json": {
       "version_major": 2,
       "version_minor": 0,
       "model_id": "da0ccd95f6784b70b183f8ea79231716"
      }
     },
     "metadata": {}
    },
    {
     "output_type": "execute_result",
     "data": {
      "text/plain": [
       "<function __main__.plot_SIR(N, I, days, y, beta)>"
      ]
     },
     "metadata": {},
     "execution_count": 89
    }
   ],
   "source": [
    "def plot_SIR(N, I, days, y, beta):\n",
    "    S_all, I_all, R_all = sim_SIR(N, I, days, y, beta)\n",
    "    x = range(0, days)\n",
    "    plt.figure(figsize=[14,4])\n",
    "    plt.fill_between(x, S_all, color='tab:green', alpha=0.25, label='Susceptible')\n",
    "    plt.fill_between(x, I_all, color='tab:orange', alpha=0.25, label='Infected')\n",
    "    plt.fill_between(x, R_all, color='tab:blue', alpha=0.25, label='Recovered')\n",
    "    plt.plot(S_all, color='tab:green', lw=2)\n",
    "    plt.plot(I_all, color='tab:orange', lw=2)\n",
    "    plt.plot(R_all, color='tab:blue', lw=2)\n",
    "    plt.xlabel('Days')\n",
    "    plt.ylabel('Population')\n",
    "\n",
    "interact(plot_SIR,\n",
    "         N=widgets.IntSlider(min=100, max=10000, step=100, value=1000),\n",
    "         I=widgets.IntSlider(min=1, max=100, step=1, value=1),\n",
    "         days=widgets.IntSlider(min=10, step=1, value=50),\n",
    "         y=widgets.FloatSlider(min=0.0, max=1.0, step=0.02, value=0.2),\n",
    "         beta=widgets.FloatSlider(min=1.0, step=0.1, value=1.2))"
   ]
  },
  {
   "cell_type": "code",
   "execution_count": null,
   "metadata": {},
   "outputs": [],
   "source": []
  }
 ],
 "metadata": {
  "kernelspec": {
   "display_name": "Python 3.8.2 64-bit",
   "language": "python",
   "name": "python38264bitd6116f04d1314cfd99a8235de9ee3733"
  },
  "language_info": {
   "codemirror_mode": {
    "name": "ipython",
    "version": 3
   },
   "file_extension": ".py",
   "mimetype": "text/x-python",
   "name": "python",
   "nbconvert_exporter": "python",
   "pygments_lexer": "ipython3",
   "version": "3.8.2-final"
  }
 },
 "nbformat": 4,
 "nbformat_minor": 4
}